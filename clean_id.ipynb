{
 "cells": [
  {
   "cell_type": "code",
   "execution_count": 26,
   "metadata": {},
   "outputs": [],
   "source": [
    "import pandas as pd\n",
    "import re\n",
    "\n",
    "# Load the CSV file\n",
    "file_path = '/Users/xinmengwang/Desktop/data.csv'\n",
    "df = pd.read_csv(file_path)\n"
   ]
  },
  {
   "cell_type": "code",
   "execution_count": 27,
   "metadata": {},
   "outputs": [
    {
     "data": {
      "text/plain": [
       "'/Users/xinmengwang/Desktop/cleandata.csv'"
      ]
     },
     "execution_count": 27,
     "metadata": {},
     "output_type": "execute_result"
    }
   ],
   "source": [
    "# Function to check if 'id' column contains only English letters\n",
    "def is_english_only(text):\n",
    "    if pd.isna(text):\n",
    "        return False\n",
    "    # Check if the text contains only English letters (A-Z, a-z)\n",
    "    return bool(re.match(r'^[A-Za-z]+$', str(text)))\n",
    "\n",
    "# Filter the rows based on the 'id' column\n",
    "clean_df = df[df['player_id'].apply(is_english_only)]\n",
    "\n",
    "# Save the cleaned dataframe to a new CSV file without punctuation\n",
    "clean_file_path_no_punct = '/Users/xinmengwang/Desktop/cleandata.csv'\n",
    "\n",
    "# Function to remove all punctuation from the dataframe\n",
    "def remove_punctuation(text):\n",
    "    if pd.isna(text):\n",
    "        return text\n",
    "    return re.sub(r'[^\\w\\s]', '', str(text))\n",
    "\n",
    "# Apply the function to remove punctuation from all columns\n",
    "clean_df_no_punct = clean_df.applymap(remove_punctuation)\n",
    "\n",
    "# Save the cleaned dataframe to a new CSV file\n",
    "clean_df_no_punct.to_csv(clean_file_path_no_punct, index=False)\n",
    "\n",
    "clean_file_path_no_punct\n"
   ]
  }
 ],
 "metadata": {
  "kernelspec": {
   "display_name": "Python 3.9.13 ('base')",
   "language": "python",
   "name": "python3"
  },
  "language_info": {
   "codemirror_mode": {
    "name": "ipython",
    "version": 3
   },
   "file_extension": ".py",
   "mimetype": "text/x-python",
   "name": "python",
   "nbconvert_exporter": "python",
   "pygments_lexer": "ipython3",
   "version": "3.9.13"
  },
  "orig_nbformat": 4,
  "vscode": {
   "interpreter": {
    "hash": "25e7cc9b69717d3647c2ff2e47eaa3e6afdd17419f09e191afa6db9d28e76722"
   }
  }
 },
 "nbformat": 4,
 "nbformat_minor": 2
}
