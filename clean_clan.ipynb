{
 "cells": [
  {
   "cell_type": "code",
   "execution_count": 15,
   "metadata": {},
   "outputs": [],
   "source": [
    "import pandas as pd\n",
    "import re\n",
    "\n",
    "# Load the CSV file\n",
    "file_path = '/Users/xinmengwang/Desktop/data.csv'\n",
    "df = pd.read_csv(file_path)"
   ]
  },
  {
   "cell_type": "code",
   "execution_count": 16,
   "metadata": {},
   "outputs": [
    {
     "name": "stdout",
     "output_type": "stream",
     "text": [
      "Cleaned data saved to /Users/xinmengwang/Desktop/cleaned_unique_clan_data.csv\n"
     ]
    }
   ],
   "source": [
    "# Define the function to check for English-only characters\n",
    "def is_english_clan_name(text):\n",
    "    if pd.isna(text):\n",
    "        return False\n",
    "    # Check if the text contains only English letters (A-Z, a-z) and spaces\n",
    "    return bool(re.match(r'^[A-Za-z\\s]+$', str(text)))\n",
    "\n",
    "# Apply the function to filter out rows with non-English characters in 'player_clan'\n",
    "df_cleaned = df[df['player_clan'].apply(is_english_clan_name)]\n",
    "\n",
    "# Drop duplicates based on 'player_clan' and retain 'country' and 'rank_num', excluding 'player_id'\n",
    "df_unique_clans = df_cleaned[['rank_num','country','player_clan']].drop_duplicates()\n",
    "\n",
    "# Save the cleaned dataframe to a new CSV file\n",
    "clean_file_path_new = '/Users/xinmengwang/Desktop/cleaned_unique_clan_data.csv'\n",
    "df_unique_clans.to_csv(clean_file_path_new, index=False)\n",
    "\n",
    "print(f\"Cleaned data saved to {clean_file_path_new}\")\n"
   ]
  }
 ],
 "metadata": {
  "kernelspec": {
   "display_name": "Python 3.9.13 ('base')",
   "language": "python",
   "name": "python3"
  },
  "language_info": {
   "codemirror_mode": {
    "name": "ipython",
    "version": 3
   },
   "file_extension": ".py",
   "mimetype": "text/x-python",
   "name": "python",
   "nbconvert_exporter": "python",
   "pygments_lexer": "ipython3",
   "version": "3.9.13"
  },
  "orig_nbformat": 4,
  "vscode": {
   "interpreter": {
    "hash": "25e7cc9b69717d3647c2ff2e47eaa3e6afdd17419f09e191afa6db9d28e76722"
   }
  }
 },
 "nbformat": 4,
 "nbformat_minor": 2
}
